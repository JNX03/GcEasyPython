{
  "nbformat": 4,
  "nbformat_minor": 0,
  "metadata": {
    "colab": {
      "provenance": [],
      "authorship_tag": "ABX9TyNOr5kF3QxxocborH7/MQD3",
      "include_colab_link": true
    },
    "kernelspec": {
      "name": "python3",
      "display_name": "Python 3"
    },
    "language_info": {
      "name": "python"
    }
  },
  "cells": [
    {
      "cell_type": "markdown",
      "metadata": {
        "id": "view-in-github",
        "colab_type": "text"
      },
      "source": [
        "<a href=\"https://colab.research.google.com/github/JNX03/GcEasyPython/blob/main/PythonEasyForGc.ipynb\" target=\"_parent\"><img src=\"https://colab.research.google.com/assets/colab-badge.svg\" alt=\"Open In Colab\"/></a>"
      ]
    },
    {
      "cell_type": "markdown",
      "source": [
        "## **1. Flowchart: การคำนวณค่าเฉลี่ยของตัวเลข 5 ตัว**\n",
        "\n",
        "เริ่มต้น<br>\n",
        "รับค่าตัวเลขจากผู้ใช้ทีละตัว (5 ครั้ง) <br>\n",
        "นำตัวเลขทั้งหมดมารวมกัน<br>\n",
        "หาค่าเฉลี่ยโดยใช้สูตร ค่าเฉลี่ย = ผลรวม / 5<br>\n",
        "แสดงผลค่าเฉลี่ยบนหน้าจอ<br>\n",
        "จบการทำงาน<br><br>\n",
        "Flowchart (pseudo):<br>\n",
        "\n",
        "Start → Input number1 → Input number2 → Input number3 → Input number4 → Input number5 → Calculate sum → Calculate average → Display average → End"
      ],
      "metadata": {
        "id": "sFwkEm3-_L6o"
      }
    },
    {
      "cell_type": "markdown",
      "source": [
        "\n",
        "int() ใช้แปลงข้อมูลใด ๆ เป็นเลขจานวนเต็ม <br>\n",
        "float() ใช้แปลงข้อมูลใด ๆ เป็นเลขทศนิยม <br>\n",
        "str() ใช้แปลงข้อมูลใด ๆ เป็นข้อความ<br>"
      ],
      "metadata": {
        "id": "5iqEqMn-N1-r"
      }
    },
    {
      "cell_type": "markdown",
      "source": [
        "## **โปรแกรม Python: รับจำนวนเต็มสองจำนวน และแสดงผลต่าง**"
      ],
      "metadata": {
        "id": "_wgKJ7-2_X3V"
      }
    },
    {
      "cell_type": "code",
      "source": [
        "# รับจำนวนเต็มสองจำนวนจากผู้ใช้\n",
        "num1 = int(input(\"Enter first number: \"))\n",
        "num2 = int(input(\"Enter second number: \"))\n",
        "\n",
        "# คำนวณผลต่าง\n",
        "difference = num1 - num2\n",
        "\n",
        "# แสดงผลลัพธ์\n",
        "print(\"The difference is:\", difference)\n"
      ],
      "metadata": {
        "id": "Vez7Sg9c_aKY"
      },
      "execution_count": null,
      "outputs": []
    },
    {
      "cell_type": "markdown",
      "source": [
        "\n",
        "# **3. การใช้ตัวแปรและชนิดข้อมูล: การแปลงอุณหภูมิ**"
      ],
      "metadata": {
        "id": "0eBO1H4S_dKq"
      }
    },
    {
      "cell_type": "code",
      "source": [
        "# ประกาศตัวแปร temperature ชนิด float (เลขทศนิยม)\n",
        "temperature = float(input(\"Enter temperature in Celsius: \"))\n",
        "\n",
        "# แปลงเป็นฟาเรนไฮต์\n",
        "fahrenheit = (temperature * 9/5) + 32\n",
        "\n",
        "# แสดงผลลัพธ์\n",
        "print(\"Temperature in Fahrenheit:\", fahrenheit)\n"
      ],
      "metadata": {
        "id": "w-WYQmdU_kMz"
      },
      "execution_count": null,
      "outputs": []
    },
    {
      "cell_type": "markdown",
      "source": [
        "\n",
        "# **4. การใช้เงื่อนไข: ตรวจสอบเลขคู่หรือเลขคี่**"
      ],
      "metadata": {
        "id": "irPndJe-_nqj"
      }
    },
    {
      "cell_type": "markdown",
      "source": [
        "# การใช้งานคำสั่ง `if`, `if-else` และ `else` ในภาษา Python\n",
        "\n",
        "ในภาษา Python เราสามารถใช้คำสั่ง `if`, `if-else`, และ `else` เพื่อควบคุมทิศทางการทำงานของโปรแกรม โดยทำงานตามเงื่อนไขที่เรากำหนด\n",
        "\n",
        "### 1. คำสั่ง `if`\n",
        "คำสั่ง `if` ใช้ตรวจสอบเงื่อนไข หากเงื่อนไขเป็นจริง (True) โปรแกรมจะทำงานในบล็อกคำสั่งนั้น\n",
        "\n",
        "```python\n",
        "Age = 18\n",
        "if Age >= 18:\n",
        "    print(\"คุณเป็นผู้ใหญ่\")\n",
        "```\n",
        "\n",
        "### 2. คำสั่ง `if-else`\n",
        "ใช้เมื่อเราต้องการให้โปรแกรมทำงานอย่างใดอย่างหนึ่งขึ้นอยู่กับเงื่อนไข ถ้าเงื่อนไขเป็นจริง (True) ให้ทำสิ่งหนึ่ง แต่ถ้าไม่เป็นจริง (False) ให้ทำอีกสิ่งหนึ่ง\n",
        "\n",
        "```python\n",
        "age = 16\n",
        "if age >= 18:\n",
        "    print(\"คุณเป็นผู้ใหญ่\")\n",
        "else:\n",
        "    print(\"คุณยังเป็นเด็ก\")\n",
        "```\n",
        "\n",
        "### 3. คำสั่ง `elif` (else if)\n",
        "ใช้เมื่อเรามีหลายเงื่อนไข และต้องการตรวจสอบแต่ละเงื่อนไขทีละขั้นตอน\n",
        "\n",
        "```python\n",
        "score = 75\n",
        "if score >= 90:\n",
        "    print(\"คุณได้เกรด A\")\n",
        "elif score >= 80: #มากกว่าเท่ากับ 80\n",
        "    print(\"คุณได้เกรด B\")\n",
        "elif score >= 70:\n",
        "    print(\"คุณได้เกรด C\")\n",
        "else:\n",
        "    print(\"คุณต้องปรับปรุง\")\n",
        "```\n",
        "\n",
        "### สรุป\n",
        "- `if` ใช้ตรวจสอบเงื่อนไขเบื้องต้น\n",
        "- `else` ใช้สำหรับกรณีที่เงื่อนไขใน `if` ไม่เป็นจริง\n",
        "- `elif` ใช้สำหรับตรวจสอบเงื่อนไขเพิ่มเติม"
      ],
      "metadata": {
        "id": "-9y5991EOvEE"
      }
    },
    {
      "cell_type": "code",
      "source": [
        "# รับตัวเลขจากผู้ใช้\n",
        "number = int(input(\"Enter a number: \"))\n",
        "\n",
        "# ตรวจสอบว่าเลขเป็นคู่หรือคี่\n",
        "if number % 2 == 0:\n",
        "    print(\"เป็นเลขคู่\")\n",
        "else:\n",
        "    print(\"เป็นเลขคี่\")\n"
      ],
      "metadata": {
        "id": "BrfrHuW9_ysR"
      },
      "execution_count": null,
      "outputs": []
    },
    {
      "cell_type": "markdown",
      "source": [
        "\n",
        "# **5. การใช้ Loop ใน Python: พิมพ์เลขที่หารด้วย 3 ลงตัว (1-20)**"
      ],
      "metadata": {
        "id": "gXX7e9_c_xar"
      }
    },
    {
      "cell_type": "markdown",
      "source": [
        "# การใช้งาน `while loop` และ `for loop` ในภาษา Python\n",
        "\n",
        "ในภาษา Python เราสามารถใช้คำสั่ง `while` และ `for` loop เพื่อทำงานซ้ำๆ จนกว่าจะเป็นไปตามเงื่อนไขที่กำหนด หรือจนกว่าจะครบจำนวนครั้งที่กำหนด\n",
        "\n",
        "### 1. `while loop`\n",
        "คำสั่ง `while` จะทำการวนลูปตราบใดที่เงื่อนไขยังคงเป็นจริง (True) เมื่อตรวจสอบแล้วเป็นเท็จ (False) จึงจะออกจากลูป\n",
        "\n",
        "```python\n",
        "i = 1\n",
        "while i <= 5:\n",
        "    print(i)\n",
        "    i += 1  # เพิ่มค่า i ทีละ 1 ทุกครั้งที่วนลูป\n",
        "```\n",
        "``\n",
        "output :\n",
        "1\n",
        "2\n",
        "3\n",
        "4\n",
        "5\n",
        "``<br>\n",
        "ตัวอย่างนี้จะพิมพ์ค่า `i` ตั้งแต่ 1 ถึง 5 แล้วจึงหยุด\n",
        "\n",
        "### 2. `for loop`\n",
        "คำสั่ง `for` ใช้สำหรับการวนลูปผ่านองค์ประกอบในลิสต์, ชุดข้อมูล, หรือช่วงของตัวเลข โดยเราสามารถกำหนดจำนวนครั้งที่ต้องการวนลูปได้\n",
        "\n",
        "```python\n",
        "for i in range(1, 6):\n",
        "    print(i)\n",
        "```\n",
        "``\n",
        "output :\n",
        "1\n",
        "2\n",
        "3\n",
        "4\n",
        "5 (ไม่มี 6 เพราะมันเริ่มจาก 1 แต่จบก่อน6)\n",
        "``<br>\n",
        "ตัวอย่างนี้จะพิมพ์ค่า `i` ตั้งแต่ 1 ถึง 5 โดยใช้ `range()` ในการกำหนดช่วงของตัวเลข\n",
        "\n",
        "### การใช้งานร่วมกับ `break` และ `continue`\n",
        "- `break` ใช้เพื่อหยุดลูปทันทีเมื่อเงื่อนไขหนึ่งเป็นจริง\n",
        "- `continue` ใช้เพื่อข้ามคำสั่งที่เหลือในลูปและเริ่มต้นการวนลูปครั้งถัดไปทันที\n",
        "\n",
        "```python\n",
        "# ตัวอย่างการใช้ break\n",
        "i = 1\n",
        "while i <= 10:\n",
        "    if i == 5:\n",
        "        break  # หยุดลูปเมื่อ i เท่ากับ 5\n",
        "    print(i)\n",
        "    i += 1\n",
        "\n",
        "# ตัวอย่างการใช้ continue\n",
        "for i in range(1, 6):\n",
        "    if i == 3:\n",
        "        continue  # ข้ามการพิมพ์ค่า i เมื่อ i เท่ากับ 3\n",
        "    print(i)\n",
        "```\n",
        "\n",
        "### สรุป\n",
        "- `while loop` ใช้ในการวนซ้ำจนกว่าเงื่อนไขจะเป็นเท็จ\n",
        "- `for loop` ใช้สำหรับการวนซ้ำที่กำหนดจำนวนรอบหรือใช้กับชุดข้อมูล\n",
        "- คำสั่ง `break` ใช้หยุดลูปทันที\n"
      ],
      "metadata": {
        "id": "vOqBMP67PRLX"
      }
    },
    {
      "cell_type": "code",
      "source": [
        "# ใช้ for loop เพื่อพิมพ์ตัวเลขที่หาร 3 ลงตัว\n",
        "for i in range(1, 21):\n",
        "    if i % 3 == 0:\n",
        "        print(i)\n"
      ],
      "metadata": {
        "id": "AdtMmHgD_2WI"
      },
      "execution_count": null,
      "outputs": []
    },
    {
      "cell_type": "code",
      "source": [
        "# ใช้ while loop เพื่อพิมพ์ตัวเลขที่หาร 3 ลงตัว\n",
        "i = 1\n",
        "while i <= 20:\n",
        "    if i % 3 == 0:\n",
        "        print(i)\n",
        "    i += 1\n"
      ],
      "metadata": {
        "id": "Ap_zBiNmADWN"
      },
      "execution_count": null,
      "outputs": []
    },
    {
      "cell_type": "markdown",
      "source": [
        "\n",
        "# **การจัดการข้อมูลด้วย List: แสดงผลเฉพาะจำนวนเต็มที่เป็นเลขคู่**"
      ],
      "metadata": {
        "id": "AitZPBBl_xiW"
      }
    },
    {
      "cell_type": "markdown",
      "source": [
        "## List\n",
        "\n",
        "- `index -1` คือตัวท้ายสุด  \n",
        "- `index 0` คือตัวแรกสุด  \n",
        "\n",
        "```python\n",
        "List = [x, y, z]\n",
        "```\n",
        "\n",
        "ตำแหน่งของแต่ละค่าใน List จะมีการจัด index ดังนี้:\n",
        "- จากซ้ายไปขวา: `0, 1, 2`\n",
        "- จากขวาไปซ้าย (index ติดลบ): `-1, -2, -3`\n",
        "\n",
        "ดังนั้น ในกรณีนี้:\n",
        "\n",
        "- `x` จะมี index เป็น `0` หรือ `-3`\n",
        "- `y` จะมี index เป็น `1` หรือ `-2`\n",
        "- `z` จะมี index เป็น `2` หรือ `-1`\n",
        "\n",
        "### การใช้ `for` loop ในการวนซ้ำ List\n",
        "```python\n",
        "for num in List:\n",
        "    print(num)\n",
        "```\n",
        "\n",
        "ในกรณีนี้ `for num in List` คือการวนซ้ำแต่ละค่าภายใน List โดยที่ตัวแปร `num` จะถูกแทนด้วยแต่ละค่าใน List เริ่มจากตัวแรกไปจนถึงตัวท้ายสุด:\n",
        "- ครั้งแรก `num = x`\n",
        "- ครั้งที่สอง `num = y`\n",
        "- ครั้งที่สาม `num = z`\n",
        "\n"
      ],
      "metadata": {
        "id": "dWq7HkLOP6Gn"
      }
    },
    {
      "cell_type": "code",
      "source": [
        "# สร้าง List ที่เก็บจำนวนเต็ม 10 จำนวน\n",
        "numbers = [12, 15, 8, 7, 21, 34, 56, 5, 10, 42]\n",
        "\n",
        "# ใช้ for loop เพื่อแสดงผลเฉพาะเลขคู่  (เพราะเรารู้ว่ามีจำนวนเท่าไหร)\n",
        "for num in numbers: #ให้ num คือเซตที่อยู่ใน numbers\n",
        "    if num % 2 == 0: #ถ้า num หารด้วย 2 ลงตัว\n",
        "        print(num)\n"
      ],
      "metadata": {
        "colab": {
          "base_uri": "https://localhost:8080/"
        },
        "id": "YC_QVEpJ_2sB",
        "outputId": "7b9d6e3c-1847-4c61-9a39-1ee5977f29a6"
      },
      "execution_count": null,
      "outputs": [
        {
          "output_type": "stream",
          "name": "stdout",
          "text": [
            "12\n",
            "8\n",
            "34\n",
            "56\n",
            "10\n",
            "42\n"
          ]
        }
      ]
    },
    {
      "cell_type": "markdown",
      "source": [
        "## **การจัดการไฟล์ใน Python: การเขียนและอ่านไฟล์**"
      ],
      "metadata": {
        "id": "fN0FEJYIAxh3"
      }
    },
    {
      "cell_type": "markdown",
      "source": [
        "## Readme.md\n",
        "\n",
        "# การเขียนและอ่านไฟล์ในภาษา Python\n",
        "\n",
        "ในภาษา Python เราสามารถใช้คำสั่งเพื่ออ่าน (read) และเขียน (write) ไฟล์ได้อย่างง่ายดาย โดยสามารถทำงานกับไฟล์ที่มีนามสกุลต่าง ๆ เช่น `.txt` ได้\n",
        "\n",
        "### 1. การเปิดไฟล์\n",
        "ในการเปิดไฟล์เราจะใช้คำสั่ง `open()` ซึ่งจะกำหนดโหมด (mode) การเปิดไฟล์ เช่น การอ่าน (read) การเขียน (write) หรือเพิ่มข้อมูล (append)\n",
        "\n",
        "```python\n",
        "file = open('filename.txt', 'r')  # เปิดไฟล์ในโหมดอ่าน\n",
        "file = open('filename.txt', 'w')  # เปิดไฟล์ในโหมดเขียน\n",
        "file = open('filename.txt', 'a')  # เปิดไฟล์ในโหมดเพิ่มข้อมูล\n",
        "```\n",
        "\n",
        "### 2. การอ่านไฟล์\n",
        "การอ่านข้อมูลจากไฟล์สามารถทำได้หลายวิธี เช่น อ่านทั้งไฟล์ อ่านทีละบรรทัด หรืออ่านเป็นลิสต์\n",
        "\n",
        "```python\n",
        "# อ่านทั้งไฟล์\n",
        "file = open('filename.txt', 'r')\n",
        "content = file.read()  # อ่านข้อมูลทั้งหมดในไฟล์\n",
        "print(content)\n",
        "file.close()  # ปิดไฟล์หลังจากอ่านเสร็จ\n",
        "\n",
        "# อ่านทีละบรรทัด\n",
        "file = open('filename.txt', 'r')\n",
        "for line in file:\n",
        "    print(line.strip())  # อ่านแต่ละบรรทัดและลบช่องว่างข้างท้าย\n",
        "file.close()\n",
        "\n",
        "# อ่านเป็นลิสต์\n",
        "file = open('filename.txt', 'r')\n",
        "lines = file.readlines()  # อ่านข้อมูลทั้งหมดในไฟล์และเก็บเป็นลิสต์\n",
        "for line in lines:\n",
        "    print(line.strip())\n",
        "file.close()\n",
        "```\n",
        "\n",
        "### 3. การเขียนไฟล์\n",
        "การเขียนไฟล์สามารถทำได้โดยการใช้โหมด `w` หรือ `a` สำหรับเขียนข้อมูลใหม่หรือเพิ่มข้อมูลเข้าไปในไฟล์เดิม\n",
        "\n",
        "```python\n",
        "# เขียนข้อมูลใหม่ลงไฟล์ (ถ้ามีข้อมูลเดิมจะถูกเขียนทับ)\n",
        "file = open('filename.txt', 'w')\n",
        "file.write(\"Hello, World!\\n\")  # เขียนข้อมูลลงในไฟล์\n",
        "file.write(\"Python is awesome.\\n\")\n",
        "file.close()  # ปิดไฟล์หลังจากเขียนเสร็จ\n",
        "\n",
        "# เพิ่มข้อมูลในไฟล์เดิม\n",
        "file = open('filename.txt', 'a')\n",
        "file.write(\"This is an additional line.\\n\")  # เพิ่มข้อมูลใหม่ลงในไฟล์\n",
        "file.close()\n",
        "```\n",
        "\n",
        "### 4. การใช้งาน `with` เพื่อจัดการไฟล์\n",
        "การใช้คำสั่ง `with` เป็นวิธีที่ดีที่สุดในการเปิดไฟล์ เพราะเมื่อออกจากบล็อกคำสั่งนี้ ไฟล์จะถูกปิดให้อัตโนมัติ ไม่จำเป็นต้องใช้คำสั่ง `close()`\n",
        "\n",
        "```python\n",
        "# อ่านไฟล์ด้วย with\n",
        "with open('filename.txt', 'r') as file:\n",
        "    content = file.read()\n",
        "    print(content)\n",
        "\n",
        "# เขียนไฟล์ด้วย with\n",
        "with open('filename.txt', 'w') as file:\n",
        "    file.write(\"This is a new line.\")\n",
        "```\n",
        "\n",
        "### สรุป\n",
        "- `open()` ใช้เพื่อเปิดไฟล์โดยกำหนดโหมดการทำงาน (`r`, `w`, `a`)\n",
        "- การอ่านไฟล์ใช้ `read()`, `readline()` หรือ `readlines()`\n",
        "- การเขียนไฟล์ใช้ `write()` หรือ `writelines()`\n",
        "- การใช้ `with` จะช่วยให้ไฟล์ถูกปิดอัตโนมัติ"
      ],
      "metadata": {
        "id": "NVsnupKuQqij"
      }
    },
    {
      "cell_type": "code",
      "source": [
        "# สร้างไฟล์และเขียนข้อความลงไป\n",
        "with open(\"output.txt\", \"w\") as file: #w mode\n",
        "    file.write(\"Hello, World!\")\n",
        "\n",
        "# อ่านข้อมูลจากไฟล์\n",
        "with open(\"output.txt\", \"r\") as file:\n",
        "    content = file.read()\n",
        "\n",
        "# แสดงผลข้อมูลที่อ่านได้\n",
        "print(content)\n"
      ],
      "metadata": {
        "colab": {
          "base_uri": "https://localhost:8080/"
        },
        "id": "00uxtwSbAV--",
        "outputId": "9da07a65-c428-4097-80b7-75d251115065"
      },
      "execution_count": null,
      "outputs": [
        {
          "output_type": "stream",
          "name": "stdout",
          "text": [
            "Hello, World!\n"
          ]
        }
      ]
    }
  ]
}